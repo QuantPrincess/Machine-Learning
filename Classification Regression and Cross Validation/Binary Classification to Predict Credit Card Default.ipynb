{
 "cells": [
  {
   "cell_type": "markdown",
   "metadata": {},
   "source": [
    "data from https://www.kaggle.com/c/GiveMeSomeCredit <br>\n",
    "\n",
    "Binary Classification to predict credit card default <br>\n",
    "Default (class-1) or not default  (class-0) <br>\n",
    "Learning Objective: <br>\n",
    "1. DecisionTreeClassifier\n",
    "2. RandomForestClassifier\n",
    "3. KNeighborsClassifier \n"
   ]
  },
  {
   "cell_type": "code",
   "execution_count": 102,
   "metadata": {},
   "outputs": [],
   "source": [
    "import numpy as np\n",
    "import pandas as pd\n",
    "import matplotlib.pyplot as plt\n",
    "import seaborn as sns\n",
    "\n",
    "from sklearn.model_selection import train_test_split\n",
    "from sklearn.preprocessing import MinMaxScaler\n",
    "from sklearn.linear_model import LogisticRegression\n",
    "from sklearn.metrics import confusion_matrix\n",
    "\n",
    "from sklearn.tree import DecisionTreeClassifier\n",
    "from sklearn.ensemble import RandomForestClassifier\n",
    "from sklearn.neighbors import KNeighborsClassifier\n",
    "from sklearn.utils import resample\n",
    "\n",
    "from sklearn.model_selection import GridSearchCV"
   ]
  },
  {
   "cell_type": "code",
   "execution_count": 103,
   "metadata": {},
   "outputs": [
    {
     "data": {
      "text/html": [
       "<div>\n",
       "<style scoped>\n",
       "    .dataframe tbody tr th:only-of-type {\n",
       "        vertical-align: middle;\n",
       "    }\n",
       "\n",
       "    .dataframe tbody tr th {\n",
       "        vertical-align: top;\n",
       "    }\n",
       "\n",
       "    .dataframe thead th {\n",
       "        text-align: right;\n",
       "    }\n",
       "</style>\n",
       "<table border=\"1\" class=\"dataframe\">\n",
       "  <thead>\n",
       "    <tr style=\"text-align: right;\">\n",
       "      <th></th>\n",
       "      <th>id</th>\n",
       "      <th>SeriousDlqin2yrs</th>\n",
       "      <th>RevolvingUtilizationOfUnsecuredLines</th>\n",
       "      <th>age</th>\n",
       "      <th>NumberOfTime30-59DaysPastDueNotWorse</th>\n",
       "      <th>DebtRatio</th>\n",
       "      <th>MonthlyIncome</th>\n",
       "      <th>NumberOfOpenCreditLinesAndLoans</th>\n",
       "      <th>NumberOfTimes90DaysLate</th>\n",
       "      <th>NumberRealEstateLoansOrLines</th>\n",
       "      <th>NumberOfTime60-89DaysPastDueNotWorse</th>\n",
       "      <th>NumberOfDependents</th>\n",
       "    </tr>\n",
       "  </thead>\n",
       "  <tbody>\n",
       "    <tr>\n",
       "      <th>0</th>\n",
       "      <td>1</td>\n",
       "      <td>1</td>\n",
       "      <td>0.766127</td>\n",
       "      <td>45</td>\n",
       "      <td>2</td>\n",
       "      <td>0.802982</td>\n",
       "      <td>9120.0</td>\n",
       "      <td>13</td>\n",
       "      <td>0</td>\n",
       "      <td>6</td>\n",
       "      <td>0</td>\n",
       "      <td>2.0</td>\n",
       "    </tr>\n",
       "    <tr>\n",
       "      <th>1</th>\n",
       "      <td>2</td>\n",
       "      <td>0</td>\n",
       "      <td>0.957151</td>\n",
       "      <td>40</td>\n",
       "      <td>0</td>\n",
       "      <td>0.121876</td>\n",
       "      <td>2600.0</td>\n",
       "      <td>4</td>\n",
       "      <td>0</td>\n",
       "      <td>0</td>\n",
       "      <td>0</td>\n",
       "      <td>1.0</td>\n",
       "    </tr>\n",
       "    <tr>\n",
       "      <th>2</th>\n",
       "      <td>3</td>\n",
       "      <td>0</td>\n",
       "      <td>0.658180</td>\n",
       "      <td>38</td>\n",
       "      <td>1</td>\n",
       "      <td>0.085113</td>\n",
       "      <td>3042.0</td>\n",
       "      <td>2</td>\n",
       "      <td>1</td>\n",
       "      <td>0</td>\n",
       "      <td>0</td>\n",
       "      <td>0.0</td>\n",
       "    </tr>\n",
       "    <tr>\n",
       "      <th>3</th>\n",
       "      <td>4</td>\n",
       "      <td>0</td>\n",
       "      <td>0.233810</td>\n",
       "      <td>30</td>\n",
       "      <td>0</td>\n",
       "      <td>0.036050</td>\n",
       "      <td>3300.0</td>\n",
       "      <td>5</td>\n",
       "      <td>0</td>\n",
       "      <td>0</td>\n",
       "      <td>0</td>\n",
       "      <td>0.0</td>\n",
       "    </tr>\n",
       "    <tr>\n",
       "      <th>4</th>\n",
       "      <td>5</td>\n",
       "      <td>0</td>\n",
       "      <td>0.907239</td>\n",
       "      <td>49</td>\n",
       "      <td>1</td>\n",
       "      <td>0.024926</td>\n",
       "      <td>63588.0</td>\n",
       "      <td>7</td>\n",
       "      <td>0</td>\n",
       "      <td>1</td>\n",
       "      <td>0</td>\n",
       "      <td>0.0</td>\n",
       "    </tr>\n",
       "  </tbody>\n",
       "</table>\n",
       "</div>"
      ],
      "text/plain": [
       "   id  SeriousDlqin2yrs  RevolvingUtilizationOfUnsecuredLines  age  \\\n",
       "0   1                 1                              0.766127   45   \n",
       "1   2                 0                              0.957151   40   \n",
       "2   3                 0                              0.658180   38   \n",
       "3   4                 0                              0.233810   30   \n",
       "4   5                 0                              0.907239   49   \n",
       "\n",
       "   NumberOfTime30-59DaysPastDueNotWorse  DebtRatio  MonthlyIncome  \\\n",
       "0                                     2   0.802982         9120.0   \n",
       "1                                     0   0.121876         2600.0   \n",
       "2                                     1   0.085113         3042.0   \n",
       "3                                     0   0.036050         3300.0   \n",
       "4                                     1   0.024926        63588.0   \n",
       "\n",
       "   NumberOfOpenCreditLinesAndLoans  NumberOfTimes90DaysLate  \\\n",
       "0                               13                        0   \n",
       "1                                4                        0   \n",
       "2                                2                        1   \n",
       "3                                5                        0   \n",
       "4                                7                        0   \n",
       "\n",
       "   NumberRealEstateLoansOrLines  NumberOfTime60-89DaysPastDueNotWorse  \\\n",
       "0                             6                                     0   \n",
       "1                             0                                     0   \n",
       "2                             0                                     0   \n",
       "3                             0                                     0   \n",
       "4                             1                                     0   \n",
       "\n",
       "   NumberOfDependents  \n",
       "0                 2.0  \n",
       "1                 1.0  \n",
       "2                 0.0  \n",
       "3                 0.0  \n",
       "4                 0.0  "
      ]
     },
     "execution_count": 103,
     "metadata": {},
     "output_type": "execute_result"
    }
   ],
   "source": [
    "df = pd.read_csv('cs_data.csv')\n",
    "df.head()"
   ]
  },
  {
   "cell_type": "code",
   "execution_count": 104,
   "metadata": {},
   "outputs": [
    {
     "data": {
      "text/plain": [
       "id                                          0\n",
       "SeriousDlqin2yrs                            0\n",
       "RevolvingUtilizationOfUnsecuredLines        0\n",
       "age                                         0\n",
       "NumberOfTime30-59DaysPastDueNotWorse        0\n",
       "DebtRatio                                   0\n",
       "MonthlyIncome                           29731\n",
       "NumberOfOpenCreditLinesAndLoans             0\n",
       "NumberOfTimes90DaysLate                     0\n",
       "NumberRealEstateLoansOrLines                0\n",
       "NumberOfTime60-89DaysPastDueNotWorse        0\n",
       "NumberOfDependents                       3924\n",
       "dtype: int64"
      ]
     },
     "execution_count": 104,
     "metadata": {},
     "output_type": "execute_result"
    }
   ],
   "source": [
    "df.isnull().sum()"
   ]
  },
  {
   "cell_type": "markdown",
   "metadata": {},
   "source": [
    "### Visualised how unbalanced data set is"
   ]
  },
  {
   "cell_type": "code",
   "execution_count": 106,
   "metadata": {},
   "outputs": [
    {
     "data": {
      "text/plain": [
       "<AxesSubplot:>"
      ]
     },
     "execution_count": 106,
     "metadata": {},
     "output_type": "execute_result"
    },
    {
     "data": {
      "image/png": "[encoded data removed]",
      "text/plain": [
       "<Figure size 432x288 with 1 Axes>"
      ]
     },
     "metadata": {
      "needs_background": "light"
     },
     "output_type": "display_data"
    }
   ],
   "source": [
    "df['SeriousDlqin2yrs'].hist()"
   ]
  },
  {
   "cell_type": "code",
   "execution_count": 107,
   "metadata": {},
   "outputs": [
    {
     "data": {
      "text/plain": [
       "139974"
      ]
     },
     "execution_count": 107,
     "metadata": {},
     "output_type": "execute_result"
    }
   ],
   "source": [
    "(df['SeriousDlqin2yrs']==0).sum()"
   ]
  },
  {
   "cell_type": "code",
   "execution_count": 108,
   "metadata": {},
   "outputs": [
    {
     "data": {
      "text/plain": [
       "10026"
      ]
     },
     "execution_count": 108,
     "metadata": {},
     "output_type": "execute_result"
    }
   ],
   "source": [
    "(df['SeriousDlqin2yrs']==1).sum()"
   ]
  },
  {
   "cell_type": "markdown",
   "metadata": {},
   "source": [
    "#### Classification Goal: predict 'SeriousDlqin2yrs' (Y) using the other features (X)"
   ]
  },
  {
   "cell_type": "code",
   "execution_count": 109,
   "metadata": {},
   "outputs": [
    {
     "data": {
      "text/html": [
       "<div>\n",
       "<style scoped>\n",
       "    .dataframe tbody tr th:only-of-type {\n",
       "        vertical-align: middle;\n",
       "    }\n",
       "\n",
       "    .dataframe tbody tr th {\n",
       "        vertical-align: top;\n",
       "    }\n",
       "\n",
       "    .dataframe thead th {\n",
       "        text-align: right;\n",
       "    }\n",
       "</style>\n",
       "<table border=\"1\" class=\"dataframe\">\n",
       "  <thead>\n",
       "    <tr style=\"text-align: right;\">\n",
       "      <th></th>\n",
       "      <th>RevolvingUtilizationOfUnsecuredLines</th>\n",
       "      <th>age</th>\n",
       "      <th>NumberOfTime30-59DaysPastDueNotWorse</th>\n",
       "      <th>DebtRatio</th>\n",
       "      <th>MonthlyIncome</th>\n",
       "      <th>NumberOfOpenCreditLinesAndLoans</th>\n",
       "      <th>NumberOfTimes90DaysLate</th>\n",
       "      <th>NumberRealEstateLoansOrLines</th>\n",
       "      <th>NumberOfTime60-89DaysPastDueNotWorse</th>\n",
       "      <th>NumberOfDependents</th>\n",
       "    </tr>\n",
       "  </thead>\n",
       "  <tbody>\n",
       "    <tr>\n",
       "      <th>0</th>\n",
       "      <td>0.766127</td>\n",
       "      <td>45.0</td>\n",
       "      <td>2.0</td>\n",
       "      <td>0.802982</td>\n",
       "      <td>9120.0</td>\n",
       "      <td>13.0</td>\n",
       "      <td>0.0</td>\n",
       "      <td>6.0</td>\n",
       "      <td>0.0</td>\n",
       "      <td>2.0</td>\n",
       "    </tr>\n",
       "    <tr>\n",
       "      <th>1</th>\n",
       "      <td>0.957151</td>\n",
       "      <td>40.0</td>\n",
       "      <td>0.0</td>\n",
       "      <td>0.121876</td>\n",
       "      <td>2600.0</td>\n",
       "      <td>4.0</td>\n",
       "      <td>0.0</td>\n",
       "      <td>0.0</td>\n",
       "      <td>0.0</td>\n",
       "      <td>1.0</td>\n",
       "    </tr>\n",
       "    <tr>\n",
       "      <th>2</th>\n",
       "      <td>0.658180</td>\n",
       "      <td>38.0</td>\n",
       "      <td>1.0</td>\n",
       "      <td>0.085113</td>\n",
       "      <td>3042.0</td>\n",
       "      <td>2.0</td>\n",
       "      <td>1.0</td>\n",
       "      <td>0.0</td>\n",
       "      <td>0.0</td>\n",
       "      <td>0.0</td>\n",
       "    </tr>\n",
       "    <tr>\n",
       "      <th>3</th>\n",
       "      <td>0.233810</td>\n",
       "      <td>30.0</td>\n",
       "      <td>0.0</td>\n",
       "      <td>0.036050</td>\n",
       "      <td>3300.0</td>\n",
       "      <td>5.0</td>\n",
       "      <td>0.0</td>\n",
       "      <td>0.0</td>\n",
       "      <td>0.0</td>\n",
       "      <td>0.0</td>\n",
       "    </tr>\n",
       "    <tr>\n",
       "      <th>4</th>\n",
       "      <td>0.907239</td>\n",
       "      <td>49.0</td>\n",
       "      <td>1.0</td>\n",
       "      <td>0.024926</td>\n",
       "      <td>63588.0</td>\n",
       "      <td>7.0</td>\n",
       "      <td>0.0</td>\n",
       "      <td>1.0</td>\n",
       "      <td>0.0</td>\n",
       "      <td>0.0</td>\n",
       "    </tr>\n",
       "  </tbody>\n",
       "</table>\n",
       "</div>"
      ],
      "text/plain": [
       "   RevolvingUtilizationOfUnsecuredLines   age  \\\n",
       "0                              0.766127  45.0   \n",
       "1                              0.957151  40.0   \n",
       "2                              0.658180  38.0   \n",
       "3                              0.233810  30.0   \n",
       "4                              0.907239  49.0   \n",
       "\n",
       "   NumberOfTime30-59DaysPastDueNotWorse  DebtRatio  MonthlyIncome  \\\n",
       "0                                   2.0   0.802982         9120.0   \n",
       "1                                   0.0   0.121876         2600.0   \n",
       "2                                   1.0   0.085113         3042.0   \n",
       "3                                   0.0   0.036050         3300.0   \n",
       "4                                   1.0   0.024926        63588.0   \n",
       "\n",
       "   NumberOfOpenCreditLinesAndLoans  NumberOfTimes90DaysLate  \\\n",
       "0                             13.0                      0.0   \n",
       "1                              4.0                      0.0   \n",
       "2                              2.0                      1.0   \n",
       "3                              5.0                      0.0   \n",
       "4                              7.0                      0.0   \n",
       "\n",
       "   NumberRealEstateLoansOrLines  NumberOfTime60-89DaysPastDueNotWorse  \\\n",
       "0                           6.0                                   0.0   \n",
       "1                           0.0                                   0.0   \n",
       "2                           0.0                                   0.0   \n",
       "3                           0.0                                   0.0   \n",
       "4                           1.0                                   0.0   \n",
       "\n",
       "   NumberOfDependents  \n",
       "0                 2.0  \n",
       "1                 1.0  \n",
       "2                 0.0  \n",
       "3                 0.0  \n",
       "4                 0.0  "
      ]
     },
     "execution_count": 109,
     "metadata": {},
     "output_type": "execute_result"
    }
   ],
   "source": [
    "X=df.drop(['SeriousDlqin2yrs', 'id'], axis=1)\n",
    "X.head()"
   ]
  },
  {
   "cell_type": "code",
   "execution_count": 110,
   "metadata": {},
   "outputs": [
    {
     "data": {
      "text/plain": [
       "0    1.0\n",
       "1    0.0\n",
       "2    0.0\n",
       "3    0.0\n",
       "4    0.0\n",
       "Name: SeriousDlqin2yrs, dtype: float64"
      ]
     },
     "execution_count": 110,
     "metadata": {},
     "output_type": "execute_result"
    }
   ],
   "source": [
    "#Y is the target/class label\n",
    "Y=df['SeriousDlqin2yrs']\n",
    "Y.head()"
   ]
  },
  {
   "cell_type": "code",
   "execution_count": 111,
   "metadata": {},
   "outputs": [],
   "source": [
    "X=X.values\n",
    "Y=Y.values"
   ]
  },
  {
   "cell_type": "markdown",
   "metadata": {},
   "source": [
    "Split the data into training, validation and testing sets"
   ]
  },
  {
   "cell_type": "code",
   "execution_count": 112,
   "metadata": {},
   "outputs": [
    {
     "name": "stdout",
     "output_type": "stream",
     "text": [
      "train: (108000, 10) (108000,)\n",
      "validation: (12000, 10) (12000,)\n",
      "test: (30000, 10) (30000,)\n"
     ]
    }
   ],
   "source": [
    "X_train, X_test, Y_train, Y_test = train_test_split(X, Y, test_size=0.2, random_state=0)\n",
    "\n",
    "X_train, X_val, Y_train, Y_val = train_test_split(X_train, Y_train, test_size=0.1, random_state=0)\n",
    "print('train:', X_train.shape, Y_train.shape)\n",
    "print('validation:', X_val.shape, Y_val.shape)\n",
    "print('test:', X_test.shape, Y_test.shape)"
   ]
  },
  {
   "cell_type": "code",
   "execution_count": 113,
   "metadata": {},
   "outputs": [
    {
     "data": {
      "image/png": "[encoded data removed]",
      "text/plain": [
       "<Figure size 432x288 with 1 Axes>"
      ]
     },
     "metadata": {
      "needs_background": "light"
     },
     "output_type": "display_data"
    }
   ],
   "source": [
    "plt.hist(Y_train, bins=20);"
   ]
  },
  {
   "cell_type": "code",
   "execution_count": 114,
   "metadata": {},
   "outputs": [
    {
     "data": {
      "text/plain": [
       "100824"
      ]
     },
     "execution_count": 114,
     "metadata": {},
     "output_type": "execute_result"
    }
   ],
   "source": [
    "(Y_train==0).sum()"
   ]
  },
  {
   "cell_type": "code",
   "execution_count": 115,
   "metadata": {},
   "outputs": [
    {
     "data": {
      "text/plain": [
       "7176"
      ]
     },
     "execution_count": 115,
     "metadata": {},
     "output_type": "execute_result"
    }
   ],
   "source": [
    "(Y_train==1).sum()"
   ]
  },
  {
   "cell_type": "code",
   "execution_count": 116,
   "metadata": {},
   "outputs": [
    {
     "data": {
      "image/png": "[encoded data removed]",
      "text/plain": [
       "<Figure size 432x288 with 1 Axes>"
      ]
     },
     "metadata": {
      "needs_background": "light"
     },
     "output_type": "display_data"
    }
   ],
   "source": [
    "plt.hist(Y_val, bins=20);"
   ]
  },
  {
   "cell_type": "code",
   "execution_count": 117,
   "metadata": {},
   "outputs": [
    {
     "data": {
      "image/png": "[encoded data removed]",
      "text/plain": [
       "<Figure size 432x288 with 1 Axes>"
      ]
     },
     "metadata": {
      "needs_background": "light"
     },
     "output_type": "display_data"
    }
   ],
   "source": [
    "plt.hist(Y_test, bins=20);"
   ]
  },
  {
   "cell_type": "code",
   "execution_count": 118,
   "metadata": {},
   "outputs": [],
   "source": [
    "#weighted classification accuracy\n",
    "\n",
    "def weighted_accuracy(confusion):\n",
    "    M=confusion.copy().astype('float32')\n",
    "    for k in range(0, M.shape[0]):\n",
    "        M[k]/=M[k].sum()+1e-8    \n",
    "    acc = M.diagonal().sum()/M.sum()\n",
    "    return acc"
   ]
  },
  {
   "cell_type": "code",
   "execution_count": 119,
   "metadata": {},
   "outputs": [],
   "source": [
    "#feature normalization\n",
    "scaler=MinMaxScaler()\n",
    "scaler.fit(X_train)\n",
    "X_train=scaler.transform(X_train)\n",
    "X_val=scaler.transform(X_val)\n",
    "X_test=scaler.transform(X_test)"
   ]
  },
  {
   "cell_type": "markdown",
   "metadata": {},
   "source": [
    "#### LogisticRegression classifier as baseline model"
   ]
  },
  {
   "cell_type": "code",
   "execution_count": 120,
   "metadata": {
    "scrolled": true
   },
   "outputs": [
    {
     "name": "stdout",
     "output_type": "stream",
     "text": [
      "classification accuracy on validation set is  0.7163831\n",
      "classification accuracy on test set is  0.7099812\n"
     ]
    }
   ],
   "source": [
    "LR=LogisticRegression(penalty='none', class_weight='balanced', solver='newton-cg', random_state=0)\n",
    "LR.fit(X_train, Y_train)\n",
    "Y_val_pred=LR.predict(X_val)\n",
    "confusion_val=confusion_matrix(Y_val, Y_val_pred)\n",
    "acc_val=weighted_accuracy(confusion_val)\n",
    "Y_test_pred=LR.predict(X_test)\n",
    "confusion_test=confusion_matrix(Y_test, Y_test_pred)\n",
    "acc_test=weighted_accuracy(confusion_test)\n",
    "print('classification accuracy on validation set is ', acc_val)\n",
    "print('classification accuracy on test set is ', acc_test)"
   ]
  },
  {
   "cell_type": "markdown",
   "metadata": {},
   "source": [
    "### DecisionTreeClassifier"
   ]
  },
  {
   "cell_type": "code",
   "execution_count": 121,
   "metadata": {},
   "outputs": [
    {
     "name": "stdout",
     "output_type": "stream",
     "text": [
      "classification accuracy on validation set is  0.67388946\n",
      "classification accuracy on test set is  0.66793966\n"
     ]
    }
   ],
   "source": [
    "DTC=DecisionTreeClassifier(max_depth=20, class_weight='balanced', random_state=0)\n",
    "DTC.fit(X_train, Y_train)\n",
    "Y_val_pred=DTC.predict(X_val)\n",
    "confusion_val=confusion_matrix(Y_val, Y_val_pred)\n",
    "acc_val=weighted_accuracy(confusion_val)\n",
    "Y_test_pred=DTC.predict(X_test)\n",
    "confusion_test=confusion_matrix(Y_test, Y_test_pred)\n",
    "acc_test=weighted_accuracy(confusion_test)\n",
    "print('classification accuracy on validation set is ', acc_val)\n",
    "print('classification accuracy on test set is ', acc_test)"
   ]
  },
  {
   "cell_type": "markdown",
   "metadata": {},
   "source": [
    "#### Random forest"
   ]
  },
  {
   "cell_type": "code",
   "execution_count": 125,
   "metadata": {},
   "outputs": [
    {
     "name": "stdout",
     "output_type": "stream",
     "text": [
      "classification accuracy on validation set is  0.64186645\n",
      "classification accuracy on test set is  0.6335782\n"
     ]
    }
   ],
   "source": [
    "RFC=RandomForestClassifier(n_estimators=20, class_weight='balanced', max_depth=20,random_state=0)\n",
    "RFC.fit(X_train, Y_train)\n",
    "Y_val_pred=RFC.predict(X_val)\n",
    "confusion_val=confusion_matrix(Y_val, Y_val_pred)\n",
    "acc_val=weighted_accuracy(confusion_val)\n",
    "Y_test_pred=RFC.predict(X_test)\n",
    "confusion_test=confusion_matrix(Y_test, Y_test_pred)\n",
    "acc_test=weighted_accuracy(confusion_test)\n",
    "print('classification accuracy on validation set is ', acc_val)\n",
    "print('classification accuracy on test set is ', acc_test)"
   ]
  },
  {
   "cell_type": "markdown",
   "metadata": {},
   "source": [
    "## Model Selection (hyper-parameter optimization) using grid search"
   ]
  },
  {
   "cell_type": "markdown",
   "metadata": {},
   "source": [
    "### 1. find the best max_depth in DecisionTreeClassifier"
   ]
  },
  {
   "cell_type": "code",
   "execution_count": 30,
   "metadata": {},
   "outputs": [
    {
     "data": {
      "text/plain": [
       "array([ 1,  2,  3,  4,  5,  6,  7,  8,  9, 10, 11, 12, 13, 14, 15, 16, 17,\n",
       "       18, 19, 20])"
      ]
     },
     "execution_count": 30,
     "metadata": {},
     "output_type": "execute_result"
    }
   ],
   "source": [
    "max_depth_list=np.arange(1,21)\n",
    "max_depth_list"
   ]
  },
  {
   "cell_type": "code",
   "execution_count": 127,
   "metadata": {},
   "outputs": [
    {
     "name": "stdout",
     "output_type": "stream",
     "text": [
      "[0.65631753, 0.7399707, 0.75633985, 0.75633985, 0.76042813, 0.7648474, 0.77131504, 0.7753135, 0.7848279, 0.79350984, 0.80402136, 0.81340575, 0.8253664, 0.8362503, 0.84988177, 0.8649971, 0.87960017, 0.8957039, 0.91043365, 0.9246937]\n",
      "[0.65460956, 0.7337307, 0.7509314, 0.7509314, 0.75495356, 0.7536156, 0.75441754, 0.7538059, 0.7580826, 0.75636005, 0.7519279, 0.74839675, 0.7400179, 0.73465526, 0.7214458, 0.71311927, 0.7065429, 0.6897093, 0.6826336, 0.67388946]\n"
     ]
    }
   ],
   "source": [
    "acc_train_list=[]\n",
    "acc_val_list=[]\n",
    "for i in range(0,len(max_depth_list)):\n",
    "    DTC=DecisionTreeClassifier(max_depth=max_depth_list[i], class_weight='balanced', random_state=0)\n",
    "    DTC.fit(X_train, Y_train)\n",
    "    Y_train_pred=DTC.predict(X_train)\n",
    "    confusion_train=confusion_matrix(Y_train, Y_train_pred)\n",
    "    acc_train=weighted_accuracy(confusion_train)\n",
    "    \n",
    "    Y_val_pred=DTC.predict(X_val)\n",
    "    confusion_val=confusion_matrix(Y_val, Y_val_pred)\n",
    "    acc_val=weighted_accuracy(confusion_val)\n",
    "    \n",
    "    acc_train_list.append(acc_train)\n",
    "    acc_val_list.append(acc_val)\n",
    "print(acc_train_list)\n",
    "print(acc_val_list)\n",
    "\n"
   ]
  },
  {
   "cell_type": "code",
   "execution_count": 128,
   "metadata": {},
   "outputs": [
    {
     "data": {
      "image/png": "[encoded data removed]",
      "text/plain": [
       "<Figure size 720x432 with 2 Axes>"
      ]
     },
     "metadata": {
      "needs_background": "light"
     },
     "output_type": "display_data"
    }
   ],
   "source": [
    "#Visualise training and validation accuracy vs max depth\n",
    "fig, ax = plt.subplots(1,2, figsize=(10,6))\n",
    "ax[0].plot(max_depth_list, acc_train_list, 'b')\n",
    "ax[0].set_xlabel('max_depth')\n",
    "ax[0].set_ylabel('training accuracy')\n",
    "ax[0].set_title('max_depth v.s. training accuracy')\n",
    "ax[0].grid(True)\n",
    "ax[1].plot(max_depth_list, acc_val_list, 'r')\n",
    "ax[1].set_xlabel('max_depth')\n",
    "ax[1].set_ylabel('validation accuracy')\n",
    "ax[1].set_title('max_depth v.s. validation accuracy')\n",
    "ax[1].grid(True)"
   ]
  },
  {
   "cell_type": "code",
   "execution_count": 129,
   "metadata": {},
   "outputs": [
    {
     "data": {
      "text/plain": [
       "9"
      ]
     },
     "execution_count": 129,
     "metadata": {},
     "output_type": "execute_result"
    }
   ],
   "source": [
    "#Optimal max depth\n",
    "max_depth_best=max_depth_list[np.argmax(acc_val_list)]\n",
    "max_depth_best"
   ]
  },
  {
   "cell_type": "code",
   "execution_count": 45,
   "metadata": {},
   "outputs": [
    {
     "name": "stdout",
     "output_type": "stream",
     "text": [
      "classification accuracy on test set is  0.7418347\n"
     ]
    }
   ],
   "source": [
    "# Train DTC with optimal max depth then test\n",
    "DTC=DecisionTreeClassifier(max_depth=max_depth_best, class_weight='balanced', random_state=0)\n",
    "DTC.fit(X_train, Y_train)\n",
    "\n",
    "Y_test_pred=DTC.predict(X_test)\n",
    "confusion_test=confusion_matrix(Y_test, Y_test_pred)\n",
    "acc_test=weighted_accuracy(confusion_test)\n",
    "\n",
    "print('classification accuracy on test set is ', acc_test)"
   ]
  },
  {
   "cell_type": "code",
   "execution_count": 46,
   "metadata": {},
   "outputs": [
    {
     "data": {
      "text/plain": [
       "array([[23402,  4555],\n",
       "       [  722,  1321]])"
      ]
     },
     "execution_count": 46,
     "metadata": {},
     "output_type": "execute_result"
    }
   ],
   "source": [
    "confusion_test=confusion_matrix(Y_test, Y_test_pred)\n",
    "confusion_test"
   ]
  },
  {
   "cell_type": "markdown",
   "metadata": {},
   "source": [
    "### Optimal max_depth in RandomForestClassifier"
   ]
  },
  {
   "cell_type": "code",
   "execution_count": 47,
   "metadata": {},
   "outputs": [
    {
     "data": {
      "text/plain": [
       "array([ 1,  2,  3,  4,  5,  6,  7,  8,  9, 10, 11, 12, 13, 14, 15, 16, 17,\n",
       "       18, 19, 20])"
      ]
     },
     "execution_count": 47,
     "metadata": {},
     "output_type": "execute_result"
    }
   ],
   "source": [
    "max_depth_list"
   ]
  },
  {
   "cell_type": "code",
   "execution_count": 48,
   "metadata": {},
   "outputs": [
    {
     "name": "stdout",
     "output_type": "stream",
     "text": [
      "[0.6969032, 0.7142781, 0.7543082, 0.7569104, 0.7616317, 0.7652793, 0.77078795, 0.7743684, 0.77907044, 0.78898585, 0.8011172, 0.8124639, 0.8240411, 0.8405075, 0.85468435, 0.8723147, 0.88671863, 0.8958057, 0.91449517, 0.9252142]\n",
      "[0.68939745, 0.7140273, 0.75247127, 0.75285804, 0.7580126, 0.75591123, 0.7605726, 0.76106584, 0.7599665, 0.7565908, 0.755299, 0.74350154, 0.7362355, 0.72682124, 0.70639443, 0.69830287, 0.68610924, 0.6779498, 0.6534811, 0.64186645]\n"
     ]
    }
   ],
   "source": [
    "#train a RandomForestClassifier with max_depth in max_depth_list\n",
    "acc_train_list=[]\n",
    "acc_val_list=[]\n",
    "for i in range(0,len(max_depth_list)):\n",
    "    RFC=RandomForestClassifier(n_estimators=20, class_weight='balanced', max_depth=max_depth_list[i],random_state=0)\n",
    "    RFC.fit(X_train, Y_train)\n",
    "    Y_train_pred=RFC.predict(X_train)\n",
    "    confusion_train=confusion_matrix(Y_train, Y_train_pred)\n",
    "    acc_train=weighted_accuracy(confusion_train)\n",
    "    \n",
    "    Y_val_pred=RFC.predict(X_val)\n",
    "    confusion_val=confusion_matrix(Y_val, Y_val_pred)\n",
    "    acc_val=weighted_accuracy(confusion_val)\n",
    "    \n",
    "    acc_train_list.append(acc_train)\n",
    "    acc_val_list.append(acc_val)\n",
    "print(acc_train_list)\n",
    "print(acc_val_list)"
   ]
  },
  {
   "cell_type": "code",
   "execution_count": 130,
   "metadata": {},
   "outputs": [
    {
     "data": {
      "image/png": "[encoded data removed]",
      "text/plain": [
       "<Figure size 720x432 with 2 Axes>"
      ]
     },
     "metadata": {
      "needs_background": "light"
     },
     "output_type": "display_data"
    }
   ],
   "source": [
    "#plot max_depth vs acc_train using max_depth_list and acc_train_list\n",
    "#plot max_depth vs acc_val using max_depth_list and acc_val_list\n",
    "fig, ax = plt.subplots(1,2, figsize=(10,6))\n",
    "ax[0].plot(max_depth_list, acc_train_list, 'b')\n",
    "ax[0].set_xlabel('max_depth')\n",
    "ax[0].set_ylabel('training accuracy')\n",
    "ax[0].set_title('max_depth v.s. training accuracy')\n",
    "ax[0].grid(True)\n",
    "ax[1].plot(max_depth_list, acc_val_list, 'r')\n",
    "ax[1].set_xlabel('max_depth')\n",
    "ax[1].set_ylabel('validation accuracy')\n",
    "ax[1].set_title('max_depth v.s. validation accuracy')\n",
    "ax[1].grid(True)"
   ]
  },
  {
   "cell_type": "code",
   "execution_count": 50,
   "metadata": {},
   "outputs": [
    {
     "data": {
      "text/plain": [
       "8"
      ]
     },
     "execution_count": 50,
     "metadata": {},
     "output_type": "execute_result"
    }
   ],
   "source": [
    "max_depth_best=max_depth_list[np.argmax(acc_val_list)]\n",
    "max_depth_best"
   ]
  },
  {
   "cell_type": "code",
   "execution_count": 140,
   "metadata": {},
   "outputs": [
    {
     "name": "stdout",
     "output_type": "stream",
     "text": [
      "classification accuracy on test set is  0.74969923\n"
     ]
    }
   ],
   "source": [
    "#max_depth_best to build a DecisionTreeClassifier\n",
    "#train it on the training set and evaluate it on the testing set\n",
    "\n",
    "RFC=RandomForestClassifier(n_estimators=20, class_weight='balanced',max_depth= max_depth_best,random_state=0)\n",
    "RFC.fit(X_train, Y_train)\n",
    "\n",
    "Y_test_pred=RFC.predict(X_test)\n",
    "confusion_test=confusion_matrix(Y_test, Y_test_pred)\n",
    "acc_test=weighted_accuracy(confusion_test)\n",
    "\n",
    "print('classification accuracy on test set is ', acc_test)"
   ]
  },
  {
   "cell_type": "code",
   "execution_count": 141,
   "metadata": {},
   "outputs": [
    {
     "data": {
      "text/plain": [
       "array([[23787,  4170],\n",
       "       [  718,  1325]])"
      ]
     },
     "execution_count": 141,
     "metadata": {},
     "output_type": "execute_result"
    }
   ],
   "source": [
    "confusion_test"
   ]
  },
  {
   "cell_type": "markdown",
   "metadata": {},
   "source": [
    "## KNeighborsClassifier and upsampling"
   ]
  },
  {
   "cell_type": "code",
   "execution_count": null,
   "metadata": {},
   "outputs": [],
   "source": [
    "print('classification accuracy on the testing set is ', acc_test)"
   ]
  },
  {
   "cell_type": "code",
   "execution_count": 55,
   "metadata": {},
   "outputs": [
    {
     "name": "stdout",
     "output_type": "stream",
     "text": [
      "classification accuracy on the testing set is  0.5525585\n"
     ]
    }
   ],
   "source": [
    "knn = KNeighborsClassifier(n_neighbors = 5)\n",
    "\n",
    "knn.fit(X_train, Y_train)\n",
    "Y_test_pred=knn.predict(X_test)\n",
    "confusion_test=confusion_matrix(Y_test, Y_test_pred)\n",
    "acc_test=weighted_accuracy(confusion_test)\n",
    "print('classification accuracy on the testing set is ', acc_test)"
   ]
  },
  {
   "cell_type": "code",
   "execution_count": 148,
   "metadata": {},
   "outputs": [
    {
     "name": "stdout",
     "output_type": "stream",
     "text": [
      "(100824, 10) (100824,)\n",
      "(201648, 10) (201648,)\n"
     ]
    }
   ],
   "source": [
    "X_train_c0=resample(X_train[Y_train==0], n_samples=100824)\n",
    "X_train_c1=resample(X_train[Y_train==1], n_samples=100824)\n",
    "\n",
    "X_train_new=np.concatenate((X_train_c0,X_train_c1))\n",
    "\n",
    "Y_train_c0=resample(Y_train[Y_train==0], n_samples=100824)\n",
    "Y_train_c1=resample(Y_train[Y_train==1], n_samples=100824)\n",
    "Y_train_new=np.concatenate((Y_train_c0,Y_train_c1))\n",
    "\n",
    "print(X_train_c1.shape,Y_train_c1.shape)\n",
    "print(X_train_new.shape,Y_train_new.shape)"
   ]
  },
  {
   "cell_type": "code",
   "execution_count": 73,
   "metadata": {},
   "outputs": [
    {
     "data": {
      "text/plain": [
       "array([  1,  12,  23,  34,  45,  56,  67,  78,  89, 100])"
      ]
     },
     "execution_count": 73,
     "metadata": {},
     "output_type": "execute_result"
    }
   ],
   "source": [
    "n_neighbors_list=np.arange(1,111,11)\n",
    "n_neighbors_list"
   ]
  },
  {
   "cell_type": "code",
   "execution_count": 149,
   "metadata": {},
   "outputs": [
    {
     "name": "stdout",
     "output_type": "stream",
     "text": [
      "n_neighbors 1\n",
      "n_neighbors 12\n",
      "n_neighbors 23\n",
      "n_neighbors 34\n",
      "n_neighbors 45\n",
      "n_neighbors 56\n",
      "n_neighbors 67\n",
      "n_neighbors 78\n",
      "n_neighbors 89\n",
      "n_neighbors 100\n"
     ]
    }
   ],
   "source": [
    "acc_train_list=[]\n",
    "acc_val_list=[]\n",
    "for i in range(0,len(n_neighbors_list)):\n",
    "    \n",
    "    knn = KNeighborsClassifier(n_neighbors = n_neighbors_list[i])\n",
    "    knn.fit(X_train_new, Y_train_new)\n",
    "    Y_train_pred_new=knn.predict(X_train_new)\n",
    "    confusion_train_new=confusion_matrix(Y_train_new, Y_train_pred_new)\n",
    "    acc_train=weighted_accuracy(confusion_train_new)\n",
    "    \n",
    "    Y_val_pred=knn.predict(X_val)\n",
    "    confusion_val=confusion_matrix(Y_val, Y_val_pred)\n",
    "    acc_val=weighted_accuracy(confusion_val)\n",
    "    \n",
    "    acc_train_list.append(acc_train)\n",
    "    acc_val_list.append(acc_val)\n",
    "    print('n_neighbors',n_neighbors_list[i])"
   ]
  },
  {
   "cell_type": "code",
   "execution_count": 151,
   "metadata": {},
   "outputs": [
    {
     "data": {
      "image/png": "[encoded data removed]",
      "text/plain": [
       "<Figure size 720x432 with 2 Axes>"
      ]
     },
     "metadata": {
      "needs_background": "light"
     },
     "output_type": "display_data"
    }
   ],
   "source": [
    "#plot max_depth vs acc_train using max_depth_list and acc_train_list\n",
    "#plot max_depth vs acc_val using max_depth_list and acc_val_list\n",
    "fig, ax = plt.subplots(1,2, figsize=(10,6))\n",
    "ax[0].plot(n_neighbors_list, acc_train_list, 'b')\n",
    "ax[0].set_xlabel('n neigbors')\n",
    "ax[0].set_ylabel('training accuracy')\n",
    "ax[0].set_title('n neighbors v.s. training accuracy')\n",
    "ax[0].grid(True)\n",
    "ax[1].plot(n_neighbors_list, acc_val_list, 'r')\n",
    "ax[1].set_xlabel('n neighbors')\n",
    "ax[1].set_ylabel('validation accuracy')\n",
    "ax[1].set_title('n neighbors v.s. validation accuracy')\n",
    "ax[1].grid(True)"
   ]
  },
  {
   "cell_type": "code",
   "execution_count": 152,
   "metadata": {},
   "outputs": [
    {
     "data": {
      "text/plain": [
       "34"
      ]
     },
     "execution_count": 152,
     "metadata": {},
     "output_type": "execute_result"
    }
   ],
   "source": [
    "n_neighbors_best=n_neighbors_list[np.argmax(acc_val_list[0:4])]\n",
    "n_neighbors_best\n"
   ]
  },
  {
   "cell_type": "code",
   "execution_count": 153,
   "metadata": {},
   "outputs": [
    {
     "name": "stdout",
     "output_type": "stream",
     "text": [
      "classification accuracy on the testing set is  0.6713728\n"
     ]
    }
   ],
   "source": [
    "#Use n_neighbors_best to build a KNeighborsClassifier\n",
    "\n",
    "knn = KNeighborsClassifier(n_neighbors = n_neighbors_best)\n",
    "knn.fit(X_train_new, Y_train_new)\n",
    "Y_test_pred=knn.predict(X_test)\n",
    "confusion_test=confusion_matrix(Y_test, Y_test_pred)\n",
    "acc_test=weighted_accuracy(confusion_test)\n",
    "print('classification accuracy on the testing set is ', acc_test)"
   ]
  },
  {
   "cell_type": "markdown",
   "metadata": {},
   "source": [
    "### How to perform grid search if we need to optimize more than one hyper-parameter ?"
   ]
  },
  {
   "cell_type": "code",
   "execution_count": 97,
   "metadata": {
    "scrolled": true
   },
   "outputs": [
    {
     "name": "stdout",
     "output_type": "stream",
     "text": [
      "Fitting 5 folds for each of 30 candidates, totalling 150 fits\n",
      "[CV 1/5] END class_weight=balanced, max_depth=5, n_estimators=10; neg_root_mean_squared_error: (test=-0.398) r2: (test=-1.551) total time=   2.1s\n",
      "[CV 2/5] END class_weight=balanced, max_depth=5, n_estimators=10; neg_root_mean_squared_error: (test=-0.395) r2: (test=-1.513) total time=   1.7s\n",
      "[CV 3/5] END class_weight=balanced, max_depth=5, n_estimators=10; neg_root_mean_squared_error: (test=-0.408) r2: (test=-1.689) total time=   2.0s\n",
      "[CV 4/5] END class_weight=balanced, max_depth=5, n_estimators=10; neg_root_mean_squared_error: (test=-0.392) r2: (test=-1.474) total time=   1.5s\n",
      "[CV 5/5] END class_weight=balanced, max_depth=5, n_estimators=10; neg_root_mean_squared_error: (test=-0.402) r2: (test=-1.610) total time=   1.3s\n",
      "[CV 1/5] END class_weight=balanced, max_depth=5, n_estimators=20; neg_root_mean_squared_error: (test=-0.400) r2: (test=-1.580) total time=   2.9s\n",
      "[CV 2/5] END class_weight=balanced, max_depth=5, n_estimators=20; neg_root_mean_squared_error: (test=-0.398) r2: (test=-1.548) total time=   3.1s\n",
      "[CV 3/5] END class_weight=balanced, max_depth=5, n_estimators=20; neg_root_mean_squared_error: (test=-0.418) r2: (test=-1.813) total time=   5.1s\n",
      "[CV 4/5] END class_weight=balanced, max_depth=5, n_estimators=20; neg_root_mean_squared_error: (test=-0.384) r2: (test=-1.371) total time=   4.5s\n",
      "[CV 5/5] END class_weight=balanced, max_depth=5, n_estimators=20; neg_root_mean_squared_error: (test=-0.406) r2: (test=-1.660) total time=   3.7s\n",
      "[CV 1/5] END class_weight=balanced, max_depth=5, n_estimators=30; neg_root_mean_squared_error: (test=-0.409) r2: (test=-1.695) total time=   5.0s\n",
      "[CV 2/5] END class_weight=balanced, max_depth=5, n_estimators=30; neg_root_mean_squared_error: (test=-0.409) r2: (test=-1.700) total time=   4.6s\n",
      "[CV 3/5] END class_weight=balanced, max_depth=5, n_estimators=30; neg_root_mean_squared_error: (test=-0.427) r2: (test=-1.946) total time=   5.1s\n",
      "[CV 4/5] END class_weight=balanced, max_depth=5, n_estimators=30; neg_root_mean_squared_error: (test=-0.413) r2: (test=-1.756) total time=   3.9s\n",
      "[CV 5/5] END class_weight=balanced, max_depth=5, n_estimators=30; neg_root_mean_squared_error: (test=-0.416) r2: (test=-1.794) total time=   4.9s\n",
      "[CV 1/5] END class_weight=balanced, max_depth=10, n_estimators=10; neg_root_mean_squared_error: (test=-0.393) r2: (test=-1.492) total time=   4.1s\n",
      "[CV 2/5] END class_weight=balanced, max_depth=10, n_estimators=10; neg_root_mean_squared_error: (test=-0.374) r2: (test=-1.253) total time=   3.6s\n",
      "[CV 3/5] END class_weight=balanced, max_depth=10, n_estimators=10; neg_root_mean_squared_error: (test=-0.389) r2: (test=-1.442) total time=   2.8s\n",
      "[CV 4/5] END class_weight=balanced, max_depth=10, n_estimators=10; neg_root_mean_squared_error: (test=-0.392) r2: (test=-1.472) total time=   3.2s\n",
      "[CV 5/5] END class_weight=balanced, max_depth=10, n_estimators=10; neg_root_mean_squared_error: (test=-0.384) r2: (test=-1.371) total time=   2.8s\n",
      "[CV 1/5] END class_weight=balanced, max_depth=10, n_estimators=20; neg_root_mean_squared_error: (test=-0.388) r2: (test=-1.430) total time=   6.7s\n",
      "[CV 2/5] END class_weight=balanced, max_depth=10, n_estimators=20; neg_root_mean_squared_error: (test=-0.373) r2: (test=-1.245) total time=   4.9s\n",
      "[CV 3/5] END class_weight=balanced, max_depth=10, n_estimators=20; neg_root_mean_squared_error: (test=-0.386) r2: (test=-1.398) total time=   6.2s\n",
      "[CV 4/5] END class_weight=balanced, max_depth=10, n_estimators=20; neg_root_mean_squared_error: (test=-0.389) r2: (test=-1.437) total time=   7.5s\n",
      "[CV 5/5] END class_weight=balanced, max_depth=10, n_estimators=20; neg_root_mean_squared_error: (test=-0.380) r2: (test=-1.329) total time=   7.2s\n",
      "[CV 1/5] END class_weight=balanced, max_depth=10, n_estimators=30; neg_root_mean_squared_error: (test=-0.385) r2: (test=-1.392) total time=   8.5s\n",
      "[CV 2/5] END class_weight=balanced, max_depth=10, n_estimators=30; neg_root_mean_squared_error: (test=-0.374) r2: (test=-1.260) total time=   9.3s\n",
      "[CV 3/5] END class_weight=balanced, max_depth=10, n_estimators=30; neg_root_mean_squared_error: (test=-0.387) r2: (test=-1.419) total time=   8.5s\n",
      "[CV 4/5] END class_weight=balanced, max_depth=10, n_estimators=30; neg_root_mean_squared_error: (test=-0.393) r2: (test=-1.490) total time=  15.4s\n",
      "[CV 5/5] END class_weight=balanced, max_depth=10, n_estimators=30; neg_root_mean_squared_error: (test=-0.385) r2: (test=-1.388) total time=   9.5s\n",
      "[CV 1/5] END class_weight=balanced, max_depth=15, n_estimators=10; neg_root_mean_squared_error: (test=-0.328) r2: (test=-0.737) total time=   3.8s\n",
      "[CV 2/5] END class_weight=balanced, max_depth=15, n_estimators=10; neg_root_mean_squared_error: (test=-0.335) r2: (test=-0.807) total time=   3.1s\n",
      "[CV 3/5] END class_weight=balanced, max_depth=15, n_estimators=10; neg_root_mean_squared_error: (test=-0.337) r2: (test=-0.827) total time=   4.6s\n",
      "[CV 4/5] END class_weight=balanced, max_depth=15, n_estimators=10; neg_root_mean_squared_error: (test=-0.333) r2: (test=-0.791) total time=   4.9s\n",
      "[CV 5/5] END class_weight=balanced, max_depth=15, n_estimators=10; neg_root_mean_squared_error: (test=-0.337) r2: (test=-0.834) total time=   3.8s\n",
      "[CV 1/5] END class_weight=balanced, max_depth=15, n_estimators=20; neg_root_mean_squared_error: (test=-0.320) r2: (test=-0.653) total time=   7.1s\n",
      "[CV 2/5] END class_weight=balanced, max_depth=15, n_estimators=20; neg_root_mean_squared_error: (test=-0.326) r2: (test=-0.709) total time=   6.9s\n",
      "[CV 3/5] END class_weight=balanced, max_depth=15, n_estimators=20; neg_root_mean_squared_error: (test=-0.326) r2: (test=-0.715) total time=   5.7s\n",
      "[CV 4/5] END class_weight=balanced, max_depth=15, n_estimators=20; neg_root_mean_squared_error: (test=-0.325) r2: (test=-0.703) total time=   7.7s\n",
      "[CV 5/5] END class_weight=balanced, max_depth=15, n_estimators=20; neg_root_mean_squared_error: (test=-0.321) r2: (test=-0.664) total time=   7.9s\n",
      "[CV 1/5] END class_weight=balanced, max_depth=15, n_estimators=30; neg_root_mean_squared_error: (test=-0.317) r2: (test=-0.618) total time=  10.5s\n",
      "[CV 2/5] END class_weight=balanced, max_depth=15, n_estimators=30; neg_root_mean_squared_error: (test=-0.322) r2: (test=-0.676) total time=   9.2s\n",
      "[CV 3/5] END class_weight=balanced, max_depth=15, n_estimators=30; neg_root_mean_squared_error: (test=-0.321) r2: (test=-0.660) total time=   9.7s\n",
      "[CV 4/5] END class_weight=balanced, max_depth=15, n_estimators=30; neg_root_mean_squared_error: (test=-0.323) r2: (test=-0.685) total time=   8.2s\n",
      "[CV 5/5] END class_weight=balanced, max_depth=15, n_estimators=30; neg_root_mean_squared_error: (test=-0.318) r2: (test=-0.630) total time=   8.3s\n",
      "[CV 1/5] END class_weight=balanced, max_depth=20, n_estimators=10; neg_root_mean_squared_error: (test=-0.279) r2: (test=-0.259) total time=   3.0s\n",
      "[CV 2/5] END class_weight=balanced, max_depth=20, n_estimators=10; neg_root_mean_squared_error: (test=-0.283) r2: (test=-0.287) total time=   3.1s\n",
      "[CV 3/5] END class_weight=balanced, max_depth=20, n_estimators=10; neg_root_mean_squared_error: (test=-0.285) r2: (test=-0.313) total time=   3.1s\n",
      "[CV 4/5] END class_weight=balanced, max_depth=20, n_estimators=10; neg_root_mean_squared_error: (test=-0.287) r2: (test=-0.332) total time=   3.1s\n",
      "[CV 5/5] END class_weight=balanced, max_depth=20, n_estimators=10; neg_root_mean_squared_error: (test=-0.277) r2: (test=-0.237) total time=   4.9s\n",
      "[CV 1/5] END class_weight=balanced, max_depth=20, n_estimators=20; neg_root_mean_squared_error: (test=-0.274) r2: (test=-0.212) total time=   8.9s\n",
      "[CV 2/5] END class_weight=balanced, max_depth=20, n_estimators=20; neg_root_mean_squared_error: (test=-0.276) r2: (test=-0.230) total time=   8.4s\n",
      "[CV 3/5] END class_weight=balanced, max_depth=20, n_estimators=20; neg_root_mean_squared_error: (test=-0.282) r2: (test=-0.279) total time=   7.6s\n",
      "[CV 4/5] END class_weight=balanced, max_depth=20, n_estimators=20; neg_root_mean_squared_error: (test=-0.281) r2: (test=-0.269) total time=   7.9s\n",
      "[CV 5/5] END class_weight=balanced, max_depth=20, n_estimators=20; neg_root_mean_squared_error: (test=-0.272) r2: (test=-0.193) total time=   7.1s\n",
      "[CV 1/5] END class_weight=balanced, max_depth=20, n_estimators=30; neg_root_mean_squared_error: (test=-0.273) r2: (test=-0.205) total time=  10.6s\n",
      "[CV 2/5] END class_weight=balanced, max_depth=20, n_estimators=30; neg_root_mean_squared_error: (test=-0.271) r2: (test=-0.185) total time=  10.1s\n",
      "[CV 3/5] END class_weight=balanced, max_depth=20, n_estimators=30; neg_root_mean_squared_error: (test=-0.277) r2: (test=-0.233) total time=  10.0s\n",
      "[CV 4/5] END class_weight=balanced, max_depth=20, n_estimators=30; neg_root_mean_squared_error: (test=-0.278) r2: (test=-0.248) total time=  10.0s\n",
      "[CV 5/5] END class_weight=balanced, max_depth=20, n_estimators=30; neg_root_mean_squared_error: (test=-0.272) r2: (test=-0.193) total time=   9.8s\n",
      "[CV 1/5] END class_weight=balanced, max_depth=25, n_estimators=10; neg_root_mean_squared_error: (test=-0.267) r2: (test=-0.146) total time=   3.6s\n",
      "[CV 2/5] END class_weight=balanced, max_depth=25, n_estimators=10; neg_root_mean_squared_error: (test=-0.264) r2: (test=-0.126) total time=   3.8s\n",
      "[CV 3/5] END class_weight=balanced, max_depth=25, n_estimators=10; neg_root_mean_squared_error: (test=-0.265) r2: (test=-0.132) total time=   3.4s\n",
      "[CV 4/5] END class_weight=balanced, max_depth=25, n_estimators=10; neg_root_mean_squared_error: (test=-0.267) r2: (test=-0.150) total time=   4.1s\n",
      "[CV 5/5] END class_weight=balanced, max_depth=25, n_estimators=10; neg_root_mean_squared_error: (test=-0.262) r2: (test=-0.106) total time=   5.5s\n",
      "[CV 1/5] END class_weight=balanced, max_depth=25, n_estimators=20; neg_root_mean_squared_error: (test=-0.264) r2: (test=-0.121) total time=   6.9s\n",
      "[CV 2/5] END class_weight=balanced, max_depth=25, n_estimators=20; neg_root_mean_squared_error: (test=-0.262) r2: (test=-0.108) total time=   8.2s\n",
      "[CV 3/5] END class_weight=balanced, max_depth=25, n_estimators=20; neg_root_mean_squared_error: (test=-0.262) r2: (test=-0.108) total time=   8.7s\n",
      "[CV 4/5] END class_weight=balanced, max_depth=25, n_estimators=20; neg_root_mean_squared_error: (test=-0.264) r2: (test=-0.128) total time=  10.7s\n",
      "[CV 5/5] END class_weight=balanced, max_depth=25, n_estimators=20; neg_root_mean_squared_error: (test=-0.256) r2: (test=-0.059) total time=   8.8s\n",
      "[CV 1/5] END class_weight=balanced, max_depth=25, n_estimators=30; neg_root_mean_squared_error: (test=-0.262) r2: (test=-0.106) total time=  13.8s\n",
      "[CV 2/5] END class_weight=balanced, max_depth=25, n_estimators=30; neg_root_mean_squared_error: (test=-0.260) r2: (test=-0.094) total time=  12.8s\n",
      "[CV 3/5] END class_weight=balanced, max_depth=25, n_estimators=30; neg_root_mean_squared_error: (test=-0.261) r2: (test=-0.100) total time=  15.0s\n",
      "[CV 4/5] END class_weight=balanced, max_depth=25, n_estimators=30; neg_root_mean_squared_error: (test=-0.263) r2: (test=-0.113) total time=  16.2s\n",
      "[CV 5/5] END class_weight=balanced, max_depth=25, n_estimators=30; neg_root_mean_squared_error: (test=-0.256) r2: (test=-0.059) total time=  14.8s\n",
      "[CV 1/5] END class_weight=balanced_subsample, max_depth=5, n_estimators=10; neg_root_mean_squared_error: (test=-0.398) r2: (test=-1.557) total time=   2.8s\n",
      "[CV 2/5] END class_weight=balanced_subsample, max_depth=5, n_estimators=10; neg_root_mean_squared_error: (test=-0.397) r2: (test=-1.540) total time=   2.2s\n",
      "[CV 3/5] END class_weight=balanced_subsample, max_depth=5, n_estimators=10; neg_root_mean_squared_error: (test=-0.403) r2: (test=-1.618) total time=   2.0s\n",
      "[CV 4/5] END class_weight=balanced_subsample, max_depth=5, n_estimators=10; neg_root_mean_squared_error: (test=-0.393) r2: (test=-1.495) total time=   3.1s\n",
      "[CV 5/5] END class_weight=balanced_subsample, max_depth=5, n_estimators=10; neg_root_mean_squared_error: (test=-0.416) r2: (test=-1.784) total time=   3.9s\n",
      "[CV 1/5] END class_weight=balanced_subsample, max_depth=5, n_estimators=20; neg_root_mean_squared_error: (test=-0.399) r2: (test=-1.569) total time=   4.9s\n",
      "[CV 2/5] END class_weight=balanced_subsample, max_depth=5, n_estimators=20; neg_root_mean_squared_error: (test=-0.403) r2: (test=-1.620) total time=   7.4s\n",
      "[CV 3/5] END class_weight=balanced_subsample, max_depth=5, n_estimators=20; neg_root_mean_squared_error: (test=-0.409) r2: (test=-1.704) total time=   6.1s\n",
      "[CV 4/5] END class_weight=balanced_subsample, max_depth=5, n_estimators=20; neg_root_mean_squared_error: (test=-0.395) r2: (test=-1.513) total time=   2.2s\n",
      "[CV 5/5] END class_weight=balanced_subsample, max_depth=5, n_estimators=20; neg_root_mean_squared_error: (test=-0.416) r2: (test=-1.794) total time=   1.5s\n",
      "[CV 1/5] END class_weight=balanced_subsample, max_depth=5, n_estimators=30; neg_root_mean_squared_error: (test=-0.405) r2: (test=-1.651) total time=   2.2s\n",
      "[CV 2/5] END class_weight=balanced_subsample, max_depth=5, n_estimators=30; neg_root_mean_squared_error: (test=-0.412) r2: (test=-1.732) total time=   2.2s\n",
      "[CV 3/5] END class_weight=balanced_subsample, max_depth=5, n_estimators=30; neg_root_mean_squared_error: (test=-0.418) r2: (test=-1.819) total time=   2.1s\n",
      "[CV 4/5] END class_weight=balanced_subsample, max_depth=5, n_estimators=30; neg_root_mean_squared_error: (test=-0.417) r2: (test=-1.805) total time=   2.2s\n",
      "[CV 5/5] END class_weight=balanced_subsample, max_depth=5, n_estimators=30; neg_root_mean_squared_error: (test=-0.424) r2: (test=-1.902) total time=   2.2s\n",
      "[CV 1/5] END class_weight=balanced_subsample, max_depth=10, n_estimators=10; neg_root_mean_squared_error: (test=-0.388) r2: (test=-1.430) total time=   1.1s\n",
      "[CV 2/5] END class_weight=balanced_subsample, max_depth=10, n_estimators=10; neg_root_mean_squared_error: (test=-0.375) r2: (test=-1.270) total time=   1.1s\n",
      "[CV 3/5] END class_weight=balanced_subsample, max_depth=10, n_estimators=10; neg_root_mean_squared_error: (test=-0.389) r2: (test=-1.445) total time=   1.0s\n",
      "[CV 4/5] END class_weight=balanced_subsample, max_depth=10, n_estimators=10; neg_root_mean_squared_error: (test=-0.388) r2: (test=-1.421) total time=   1.3s\n",
      "[CV 5/5] END class_weight=balanced_subsample, max_depth=10, n_estimators=10; neg_root_mean_squared_error: (test=-0.388) r2: (test=-1.420) total time=   1.3s\n",
      "[CV 1/5] END class_weight=balanced_subsample, max_depth=10, n_estimators=20; neg_root_mean_squared_error: (test=-0.387) r2: (test=-1.417) total time=   2.4s\n",
      "[CV 2/5] END class_weight=balanced_subsample, max_depth=10, n_estimators=20; neg_root_mean_squared_error: (test=-0.376) r2: (test=-1.277) total time=   2.2s\n",
      "[CV 3/5] END class_weight=balanced_subsample, max_depth=10, n_estimators=20; neg_root_mean_squared_error: (test=-0.385) r2: (test=-1.386) total time=   2.5s\n",
      "[CV 4/5] END class_weight=balanced_subsample, max_depth=10, n_estimators=20; neg_root_mean_squared_error: (test=-0.390) r2: (test=-1.451) total time=   3.1s\n",
      "[CV 5/5] END class_weight=balanced_subsample, max_depth=10, n_estimators=20; neg_root_mean_squared_error: (test=-0.387) r2: (test=-1.411) total time=   4.3s\n",
      "[CV 1/5] END class_weight=balanced_subsample, max_depth=10, n_estimators=30; neg_root_mean_squared_error: (test=-0.388) r2: (test=-1.422) total time=   7.6s\n",
      "[CV 2/5] END class_weight=balanced_subsample, max_depth=10, n_estimators=30; neg_root_mean_squared_error: (test=-0.378) r2: (test=-1.298) total time=   7.1s\n",
      "[CV 3/5] END class_weight=balanced_subsample, max_depth=10, n_estimators=30; neg_root_mean_squared_error: (test=-0.391) r2: (test=-1.466) total time=   6.2s\n",
      "[CV 4/5] END class_weight=balanced_subsample, max_depth=10, n_estimators=30; neg_root_mean_squared_error: (test=-0.386) r2: (test=-1.402) total time=   5.1s\n",
      "[CV 5/5] END class_weight=balanced_subsample, max_depth=10, n_estimators=30; neg_root_mean_squared_error: (test=-0.384) r2: (test=-1.377) total time=   4.8s\n",
      "[CV 1/5] END class_weight=balanced_subsample, max_depth=15, n_estimators=10; neg_root_mean_squared_error: (test=-0.327) r2: (test=-0.721) total time=   3.8s\n",
      "[CV 2/5] END class_weight=balanced_subsample, max_depth=15, n_estimators=10; neg_root_mean_squared_error: (test=-0.338) r2: (test=-0.843) total time=   5.2s\n",
      "[CV 3/5] END class_weight=balanced_subsample, max_depth=15, n_estimators=10; neg_root_mean_squared_error: (test=-0.330) r2: (test=-0.759) total time=   4.2s\n",
      "[CV 4/5] END class_weight=balanced_subsample, max_depth=15, n_estimators=10; neg_root_mean_squared_error: (test=-0.335) r2: (test=-0.810) total time=   1.7s\n",
      "[CV 5/5] END class_weight=balanced_subsample, max_depth=15, n_estimators=10; neg_root_mean_squared_error: (test=-0.330) r2: (test=-0.758) total time=   2.5s\n",
      "[CV 1/5] END class_weight=balanced_subsample, max_depth=15, n_estimators=20; neg_root_mean_squared_error: (test=-0.320) r2: (test=-0.646) total time=   2.9s\n",
      "[CV 2/5] END class_weight=balanced_subsample, max_depth=15, n_estimators=20; neg_root_mean_squared_error: (test=-0.327) r2: (test=-0.726) total time=   4.5s\n",
      "[CV 3/5] END class_weight=balanced_subsample, max_depth=15, n_estimators=20; neg_root_mean_squared_error: (test=-0.325) r2: (test=-0.705) total time=   4.0s\n",
      "[CV 4/5] END class_weight=balanced_subsample, max_depth=15, n_estimators=20; neg_root_mean_squared_error: (test=-0.324) r2: (test=-0.695) total time=   5.0s\n",
      "[CV 5/5] END class_weight=balanced_subsample, max_depth=15, n_estimators=20; neg_root_mean_squared_error: (test=-0.321) r2: (test=-0.663) total time=   6.3s\n",
      "[CV 1/5] END class_weight=balanced_subsample, max_depth=15, n_estimators=30; neg_root_mean_squared_error: (test=-0.317) r2: (test=-0.624) total time=   6.3s\n",
      "[CV 2/5] END class_weight=balanced_subsample, max_depth=15, n_estimators=30; neg_root_mean_squared_error: (test=-0.322) r2: (test=-0.669) total time=   6.3s\n",
      "[CV 3/5] END class_weight=balanced_subsample, max_depth=15, n_estimators=30; neg_root_mean_squared_error: (test=-0.320) r2: (test=-0.647) total time=   4.0s\n",
      "[CV 4/5] END class_weight=balanced_subsample, max_depth=15, n_estimators=30; neg_root_mean_squared_error: (test=-0.319) r2: (test=-0.637) total time=   4.1s\n",
      "[CV 5/5] END class_weight=balanced_subsample, max_depth=15, n_estimators=30; neg_root_mean_squared_error: (test=-0.321) r2: (test=-0.663) total time=   3.9s\n",
      "[CV 1/5] END class_weight=balanced_subsample, max_depth=20, n_estimators=10; neg_root_mean_squared_error: (test=-0.283) r2: (test=-0.294) total time=   1.5s\n",
      "[CV 2/5] END class_weight=balanced_subsample, max_depth=20, n_estimators=10; neg_root_mean_squared_error: (test=-0.283) r2: (test=-0.294) total time=   1.9s\n",
      "[CV 3/5] END class_weight=balanced_subsample, max_depth=20, n_estimators=10; neg_root_mean_squared_error: (test=-0.288) r2: (test=-0.341) total time=   2.1s\n",
      "[CV 4/5] END class_weight=balanced_subsample, max_depth=20, n_estimators=10; neg_root_mean_squared_error: (test=-0.285) r2: (test=-0.306) total time=   2.0s\n",
      "[CV 5/5] END class_weight=balanced_subsample, max_depth=20, n_estimators=10; neg_root_mean_squared_error: (test=-0.280) r2: (test=-0.266) total time=   2.0s\n",
      "[CV 1/5] END class_weight=balanced_subsample, max_depth=20, n_estimators=20; neg_root_mean_squared_error: (test=-0.276) r2: (test=-0.232) total time=   3.1s\n",
      "[CV 2/5] END class_weight=balanced_subsample, max_depth=20, n_estimators=20; neg_root_mean_squared_error: (test=-0.276) r2: (test=-0.229) total time=   3.8s\n",
      "[CV 3/5] END class_weight=balanced_subsample, max_depth=20, n_estimators=20; neg_root_mean_squared_error: (test=-0.279) r2: (test=-0.259) total time=   4.0s\n",
      "[CV 4/5] END class_weight=balanced_subsample, max_depth=20, n_estimators=20; neg_root_mean_squared_error: (test=-0.280) r2: (test=-0.261) total time=   5.4s\n",
      "[CV 5/5] END class_weight=balanced_subsample, max_depth=20, n_estimators=20; neg_root_mean_squared_error: (test=-0.273) r2: (test=-0.197) total time=   4.9s\n",
      "[CV 1/5] END class_weight=balanced_subsample, max_depth=20, n_estimators=30; neg_root_mean_squared_error: (test=-0.275) r2: (test=-0.215) total time=   4.6s\n",
      "[CV 2/5] END class_weight=balanced_subsample, max_depth=20, n_estimators=30; neg_root_mean_squared_error: (test=-0.272) r2: (test=-0.196) total time=   4.3s\n",
      "[CV 3/5] END class_weight=balanced_subsample, max_depth=20, n_estimators=30; neg_root_mean_squared_error: (test=-0.277) r2: (test=-0.238) total time=   4.3s\n",
      "[CV 4/5] END class_weight=balanced_subsample, max_depth=20, n_estimators=30; neg_root_mean_squared_error: (test=-0.278) r2: (test=-0.245) total time=   4.2s\n",
      "[CV 5/5] END class_weight=balanced_subsample, max_depth=20, n_estimators=30; neg_root_mean_squared_error: (test=-0.271) r2: (test=-0.185) total time=   5.3s\n",
      "[CV 1/5] END class_weight=balanced_subsample, max_depth=25, n_estimators=10; neg_root_mean_squared_error: (test=-0.263) r2: (test=-0.119) total time=   1.8s\n",
      "[CV 2/5] END class_weight=balanced_subsample, max_depth=25, n_estimators=10; neg_root_mean_squared_error: (test=-0.263) r2: (test=-0.113) total time=   1.5s\n",
      "[CV 3/5] END class_weight=balanced_subsample, max_depth=25, n_estimators=10; neg_root_mean_squared_error: (test=-0.265) r2: (test=-0.132) total time=   1.5s\n",
      "[CV 4/5] END class_weight=balanced_subsample, max_depth=25, n_estimators=10; neg_root_mean_squared_error: (test=-0.270) r2: (test=-0.173) total time=   1.7s\n",
      "[CV 5/5] END class_weight=balanced_subsample, max_depth=25, n_estimators=10; neg_root_mean_squared_error: (test=-0.260) r2: (test=-0.087) total time=   1.7s\n",
      "[CV 1/5] END class_weight=balanced_subsample, max_depth=25, n_estimators=20; neg_root_mean_squared_error: (test=-0.261) r2: (test=-0.095) total time=   3.5s\n",
      "[CV 2/5] END class_weight=balanced_subsample, max_depth=25, n_estimators=20; neg_root_mean_squared_error: (test=-0.261) r2: (test=-0.101) total time=   3.5s\n",
      "[CV 3/5] END class_weight=balanced_subsample, max_depth=25, n_estimators=20; neg_root_mean_squared_error: (test=-0.261) r2: (test=-0.102) total time=   3.8s\n",
      "[CV 4/5] END class_weight=balanced_subsample, max_depth=25, n_estimators=20; neg_root_mean_squared_error: (test=-0.264) r2: (test=-0.127) total time=   3.7s\n",
      "[CV 5/5] END class_weight=balanced_subsample, max_depth=25, n_estimators=20; neg_root_mean_squared_error: (test=-0.258) r2: (test=-0.070) total time=   4.3s\n",
      "[CV 1/5] END class_weight=balanced_subsample, max_depth=25, n_estimators=30; neg_root_mean_squared_error: (test=-0.261) r2: (test=-0.103) total time=   4.6s\n",
      "[CV 2/5] END class_weight=balanced_subsample, max_depth=25, n_estimators=30; neg_root_mean_squared_error: (test=-0.261) r2: (test=-0.094) total time=   7.2s\n",
      "[CV 3/5] END class_weight=balanced_subsample, max_depth=25, n_estimators=30; neg_root_mean_squared_error: (test=-0.259) r2: (test=-0.085) total time=   7.1s\n",
      "[CV 4/5] END class_weight=balanced_subsample, max_depth=25, n_estimators=30; neg_root_mean_squared_error: (test=-0.263) r2: (test=-0.115) total time=   6.1s\n",
      "[CV 5/5] END class_weight=balanced_subsample, max_depth=25, n_estimators=30; neg_root_mean_squared_error: (test=-0.258) r2: (test=-0.072) total time=   5.1s\n"
     ]
    },
    {
     "data": {
      "text/html": [
       "<style>#sk-container-id-1 {color: black;background-color: white;}#sk-container-id-1 pre{padding: 0;}#sk-container-id-1 div.sk-toggleable {background-color: white;}#sk-container-id-1 label.sk-toggleable__label {cursor: pointer;display: block;width: 100%;margin-bottom: 0;padding: 0.3em;box-sizing: border-box;text-align: center;}#sk-container-id-1 label.sk-toggleable__label-arrow:before {content: \"▸\";float: left;margin-right: 0.25em;color: #696969;}#sk-container-id-1 label.sk-toggleable__label-arrow:hover:before {color: black;}#sk-container-id-1 div.sk-estimator:hover label.sk-toggleable__label-arrow:before {color: black;}#sk-container-id-1 div.sk-toggleable__content {max-height: 0;max-width: 0;overflow: hidden;text-align: left;background-color: #f0f8ff;}#sk-container-id-1 div.sk-toggleable__content pre {margin: 0.2em;color: black;border-radius: 0.25em;background-color: #f0f8ff;}#sk-container-id-1 input.sk-toggleable__control:checked~div.sk-toggleable__content {max-height: 200px;max-width: 100%;overflow: auto;}#sk-container-id-1 input.sk-toggleable__control:checked~label.sk-toggleable__label-arrow:before {content: \"▾\";}#sk-container-id-1 div.sk-estimator input.sk-toggleable__control:checked~label.sk-toggleable__label {background-color: #d4ebff;}#sk-container-id-1 div.sk-label input.sk-toggleable__control:checked~label.sk-toggleable__label {background-color: #d4ebff;}#sk-container-id-1 input.sk-hidden--visually {border: 0;clip: rect(1px 1px 1px 1px);clip: rect(1px, 1px, 1px, 1px);height: 1px;margin: -1px;overflow: hidden;padding: 0;position: absolute;width: 1px;}#sk-container-id-1 div.sk-estimator {font-family: monospace;background-color: #f0f8ff;border: 1px dotted black;border-radius: 0.25em;box-sizing: border-box;margin-bottom: 0.5em;}#sk-container-id-1 div.sk-estimator:hover {background-color: #d4ebff;}#sk-container-id-1 div.sk-parallel-item::after {content: \"\";width: 100%;border-bottom: 1px solid gray;flex-grow: 1;}#sk-container-id-1 div.sk-label:hover label.sk-toggleable__label {background-color: #d4ebff;}#sk-container-id-1 div.sk-serial::before {content: \"\";position: absolute;border-left: 1px solid gray;box-sizing: border-box;top: 0;bottom: 0;left: 50%;z-index: 0;}#sk-container-id-1 div.sk-serial {display: flex;flex-direction: column;align-items: center;background-color: white;padding-right: 0.2em;padding-left: 0.2em;position: relative;}#sk-container-id-1 div.sk-item {position: relative;z-index: 1;}#sk-container-id-1 div.sk-parallel {display: flex;align-items: stretch;justify-content: center;background-color: white;position: relative;}#sk-container-id-1 div.sk-item::before, #sk-container-id-1 div.sk-parallel-item::before {content: \"\";position: absolute;border-left: 1px solid gray;box-sizing: border-box;top: 0;bottom: 0;left: 50%;z-index: -1;}#sk-container-id-1 div.sk-parallel-item {display: flex;flex-direction: column;z-index: 1;position: relative;background-color: white;}#sk-container-id-1 div.sk-parallel-item:first-child::after {align-self: flex-end;width: 50%;}#sk-container-id-1 div.sk-parallel-item:last-child::after {align-self: flex-start;width: 50%;}#sk-container-id-1 div.sk-parallel-item:only-child::after {width: 0;}#sk-container-id-1 div.sk-dashed-wrapped {border: 1px dashed gray;margin: 0 0.4em 0.5em 0.4em;box-sizing: border-box;padding-bottom: 0.4em;background-color: white;}#sk-container-id-1 div.sk-label label {font-family: monospace;font-weight: bold;display: inline-block;line-height: 1.2em;}#sk-container-id-1 div.sk-label-container {text-align: center;}#sk-container-id-1 div.sk-container {/* jupyter's `normalize.less` sets `[hidden] { display: none; }` but bootstrap.min.css set `[hidden] { display: none !important; }` so we also need the `!important` here to be able to override the default hidden behavior on the sphinx rendered scikit-learn.org. See: https://github.com/scikit-learn/scikit-learn/issues/21755 */display: inline-block !important;position: relative;}#sk-container-id-1 div.sk-text-repr-fallback {display: none;}</style><div id=\"sk-container-id-1\" class=\"sk-top-container\"><div class=\"sk-text-repr-fallback\"><pre>GridSearchCV(cv=5, estimator=RandomForestClassifier(random_state=0),\n",
       "             param_grid={&#x27;class_weight&#x27;: [&#x27;balanced&#x27;, &#x27;balanced_subsample&#x27;],\n",
       "                         &#x27;max_depth&#x27;: [5, 10, 15, 20, 25],\n",
       "                         &#x27;n_estimators&#x27;: [10, 20, 30]},\n",
       "             refit=&#x27;r2&#x27;, scoring=[&#x27;r2&#x27;, &#x27;neg_root_mean_squared_error&#x27;],\n",
       "             verbose=4)</pre><b>In a Jupyter environment, please rerun this cell to show the HTML representation or trust the notebook. <br />On GitHub, the HTML representation is unable to render, please try loading this page with nbviewer.org.</b></div><div class=\"sk-container\" hidden><div class=\"sk-item sk-dashed-wrapped\"><div class=\"sk-label-container\"><div class=\"sk-label sk-toggleable\"><input class=\"sk-toggleable__control sk-hidden--visually\" id=\"sk-estimator-id-1\" type=\"checkbox\" ><label for=\"sk-estimator-id-1\" class=\"sk-toggleable__label sk-toggleable__label-arrow\">GridSearchCV</label><div class=\"sk-toggleable__content\"><pre>GridSearchCV(cv=5, estimator=RandomForestClassifier(random_state=0),\n",
       "             param_grid={&#x27;class_weight&#x27;: [&#x27;balanced&#x27;, &#x27;balanced_subsample&#x27;],\n",
       "                         &#x27;max_depth&#x27;: [5, 10, 15, 20, 25],\n",
       "                         &#x27;n_estimators&#x27;: [10, 20, 30]},\n",
       "             refit=&#x27;r2&#x27;, scoring=[&#x27;r2&#x27;, &#x27;neg_root_mean_squared_error&#x27;],\n",
       "             verbose=4)</pre></div></div></div><div class=\"sk-parallel\"><div class=\"sk-parallel-item\"><div class=\"sk-item\"><div class=\"sk-label-container\"><div class=\"sk-label sk-toggleable\"><input class=\"sk-toggleable__control sk-hidden--visually\" id=\"sk-estimator-id-2\" type=\"checkbox\" ><label for=\"sk-estimator-id-2\" class=\"sk-toggleable__label sk-toggleable__label-arrow\">estimator: RandomForestClassifier</label><div class=\"sk-toggleable__content\"><pre>RandomForestClassifier(random_state=0)</pre></div></div></div><div class=\"sk-serial\"><div class=\"sk-item\"><div class=\"sk-estimator sk-toggleable\"><input class=\"sk-toggleable__control sk-hidden--visually\" id=\"sk-estimator-id-3\" type=\"checkbox\" ><label for=\"sk-estimator-id-3\" class=\"sk-toggleable__label sk-toggleable__label-arrow\">RandomForestClassifier</label><div class=\"sk-toggleable__content\"><pre>RandomForestClassifier(random_state=0)</pre></div></div></div></div></div></div></div></div></div></div>"
      ],
      "text/plain": [
       "GridSearchCV(cv=5, estimator=RandomForestClassifier(random_state=0),\n",
       "             param_grid={'class_weight': ['balanced', 'balanced_subsample'],\n",
       "                         'max_depth': [5, 10, 15, 20, 25],\n",
       "                         'n_estimators': [10, 20, 30]},\n",
       "             refit='r2', scoring=['r2', 'neg_root_mean_squared_error'],\n",
       "             verbose=4)"
      ]
     },
     "execution_count": 97,
     "metadata": {},
     "output_type": "execute_result"
    }
   ],
   "source": [
    "#as described in Random Forest PhD thesis - Gilles Louppe\n",
    "\n",
    "#example with random forest\n",
    "randoforest=RandomForestClassifier(random_state=0)\n",
    "\n",
    "search_space={\n",
    "    'n_estimators':[10,20,30],\n",
    "    'max_depth':[5,10,15,20,25],\n",
    "    'class_weight':['balanced','balanced_subsample']\n",
    "}\n",
    "\n",
    "GS = GridSearchCV(estimator = randoforest,\n",
    "               param_grid = search_space,\n",
    "               scoring = ['r2','neg_root_mean_squared_error'],\n",
    "               refit='r2',\n",
    "               cv = 5,\n",
    "               verbose =4)\n",
    "GS.fit(X_train,Y_train)"
   ]
  },
  {
   "cell_type": "code",
   "execution_count": 99,
   "metadata": {},
   "outputs": [
    {
     "name": "stdout",
     "output_type": "stream",
     "text": [
      "RandomForestClassifier(class_weight='balanced_subsample', max_depth=25,\n",
      "                       n_estimators=30, random_state=0)\n"
     ]
    }
   ],
   "source": [
    "print(GS.best_estimator_)"
   ]
  },
  {
   "cell_type": "code",
   "execution_count": 101,
   "metadata": {},
   "outputs": [
    {
     "name": "stdout",
     "output_type": "stream",
     "text": [
      "{'class_weight': 'balanced_subsample', 'max_depth': 25, 'n_estimators': 30}\n"
     ]
    }
   ],
   "source": [
    "print(GS.best_params_)"
   ]
  }
 ],
 "metadata": {
  "kernelspec": {
   "display_name": "Python 3 (ipykernel)",
   "language": "python",
   "name": "python3"
  },
  "language_info": {
   "codemirror_mode": {
    "name": "ipython",
    "version": 3
   },
   "file_extension": ".py",
   "mimetype": "text/x-python",
   "name": "python",
   "nbconvert_exporter": "python",
   "pygments_lexer": "ipython3",
   "version": "3.9.7"
  }
 },
 "nbformat": 4,
 "nbformat_minor": 4
}
